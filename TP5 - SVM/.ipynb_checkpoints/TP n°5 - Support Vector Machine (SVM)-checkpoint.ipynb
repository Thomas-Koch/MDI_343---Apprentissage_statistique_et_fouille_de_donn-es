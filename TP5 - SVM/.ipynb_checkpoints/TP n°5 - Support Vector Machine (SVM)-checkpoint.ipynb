{
 "cells": [
  {
   "cell_type": "markdown",
   "metadata": {},
   "source": [
    "--------------\n",
    "# <center>- TP n°5 : Support Vector Machine (SVM) -</center>\n",
    "---------------\n",
    "*Thomas Koch*"
   ]
  },
  {
   "cell_type": "markdown",
   "metadata": {},
   "source": [
    "### <center>- Introduction et fondements mathématiques -</center>\n",
    "Les SVM ont été introduites par Vapnik [3], et sont abordées au chapitre 12 du livre [1]. Des détails plus mathématiques peuvent être trouvés dans le chapitre 7 du livre [2]. La popularité des méthodes SVM, pour la classification binaire en particulier, provient du fait qu’elles reposent sur l’application d’algorithmes de recherche de règles de décision linéaires : on parle d’hyperplans (affine) séparateurs. Toutefois, cette recherche s’effectue dans un espace de caractères (*feature space*, en anglais) de très grande dimension qui\n",
    "est l’image de l’espace d’entrée original par une transformation $Φ$ non linéaire.\n",
    "\n",
    "Le but de ce TP est de mettre en pratique ce type de techniques de classification sur données réelles et simulées au moyen du package `scikit-learn` (lequel met en œuvre la librairie en C `libsvm`) et d’apprendre à contrôler les paramètres garantissant leur flexibilité (hyper-paramètres, noyau).\n",
    "\n",
    "### <center>- Mise en œuvre -</center>\n",
    "On utilisera l’objet sklearn.svm.SVC :\n",
    "```python\n",
    "from sklearn.svm import SVC\n",
    "```\n",
    "Faites une expérience avec les données `iris` comme suggéré ci-dessous.\n",
    "\n",
    "### Question 1 : Classifier maison sur dataset `iris`\n",
    "En vous basant sur la documentation à l’adresse suivante :\n",
    "http://scikit-learn.org/stable/modules/svm.html \n",
    "écrivez un code qui va classifier la classe 1 contre la classe 2 du dataset `iris` en utilisant les deux premières variables et un noyau linéaire. En laissant la moitié des données de côté, évaluez la\n",
    "performance en généralisation du modèle. Le dataset `iris` s’obtient avec les lignes suivantes :\n",
    "```python\n",
    "from sklearn import datasets\n",
    "from sklearn.preprocessing import StandardScaler\n",
    "scaler = StandardScaler()\n",
    "iris = datasets.load_iris()\n",
    "X = iris.data\n",
    "X = scaler.fit_transform(X)\n",
    "y = iris.target\n",
    "X = X[y != 0, :2]\n",
    "y = y[y != 0]\n",
    "```\n",
    "\n",
    ">On pourra également se repporter aux liens suivants :\n",
    "* http://scikit-learn.org/stable/auto_examples/datasets/plot_iris_dataset.html\n",
    "* https://fr.wikipedia.org/wiki/Iris_%28jeu_de_donn%C3%A9es%29"
   ]
  },
  {
   "cell_type": "code",
   "execution_count": 1,
   "metadata": {},
   "outputs": [],
   "source": [
    "import numpy as np\n",
    "import matplotlib.pyplot as plt\n",
    "from sklearn import svm\n",
    "from sklearn.svm import SVC\n",
    "from sklearn import datasets\n",
    "from sklearn.utils import shuffle\n",
    "from sklearn.preprocessing import StandardScaler\n",
    "\n",
    "from svmsource import *  #import des fonctions du fichier svmsource.py\n",
    "#import svmsource as sv #autre possibilité pour l'import"
   ]
  },
  {
   "cell_type": "code",
   "execution_count": 2,
   "metadata": {},
   "outputs": [],
   "source": [
    "scaler = StandardScaler()\n",
    "\n",
    "iris = datasets.load_iris()\n",
    "\n",
    "X = iris.data\n",
    "X = scaler.fit_transform(X)\n",
    "\n",
    "y = iris.target # 3 classes : Setosa, Versicolour and Virginica\n",
    "\n",
    "X = X[y != 0, :2] # On retire la classe 0\n",
    "y = y[y != 0] # On retire la classe 0"
   ]
  },
  {
   "cell_type": "code",
   "execution_count": 3,
   "metadata": {},
   "outputs": [
    {
     "data": {
      "text/plain": [
       "(100, 2)"
      ]
     },
     "execution_count": 3,
     "metadata": {},
     "output_type": "execute_result"
    }
   ],
   "source": [
    "X.shape"
   ]
  },
  {
   "cell_type": "code",
   "execution_count": 4,
   "metadata": {},
   "outputs": [
    {
     "data": {
      "text/plain": [
       "(100,)"
      ]
     },
     "execution_count": 4,
     "metadata": {},
     "output_type": "execute_result"
    }
   ],
   "source": [
    "y.shape"
   ]
  },
  {
   "cell_type": "code",
   "execution_count": 5,
   "metadata": {},
   "outputs": [
    {
     "data": {
      "text/plain": [
       "Text(0.5, 1.0, 'iris dataset')"
      ]
     },
     "execution_count": 5,
     "metadata": {},
     "output_type": "execute_result"
    },
    {
     "data": {
      "image/png": "[encoded data removed]",
      "text/plain": [
       "<Figure size 720x720 with 1 Axes>"
      ]
     },
     "metadata": {
      "needs_background": "light"
     },
     "output_type": "display_data"
    }
   ],
   "source": [
    "plt.figure(figsize=(10, 10))\n",
    "plot_2d(X, y)\n",
    "plt.title(\"iris dataset\")"
   ]
  },
  {
   "cell_type": "code",
   "execution_count": 6,
   "metadata": {},
   "outputs": [
    {
     "name": "stdout",
     "output_type": "stream",
     "text": [
      "Score = 0.7\n"
     ]
    },
    {
     "data": {
      "text/plain": [
       "<Figure size 432x288 with 0 Axes>"
      ]
     },
     "metadata": {},
     "output_type": "display_data"
    },
    {
     "data": {
      "image/png": "[encoded data removed]",
      "text/plain": [
       "<Figure size 1080x720 with 2 Axes>"
      ]
     },
     "metadata": {
      "needs_background": "light"
     },
     "output_type": "display_data"
    }
   ],
   "source": [
    "# Split train & test\n",
    "from sklearn.model_selection import train_test_split\n",
    "\n",
    "X_train, X_test, y_train, y_test = train_test_split(X, y, test_size=0.5, random_state=10)\n",
    "\n",
    "\n",
    "svc_lin = SVC(kernel='linear')\n",
    "# fit the model\n",
    "svc_lin.fit(X_train, y_train)\n",
    "\n",
    "# predict labels\n",
    "y_pred_lin = svc_lin.predict(X_test)\n",
    "\n",
    "# check your score\n",
    "score_lin = svc_lin.score(X_test, y_test)\n",
    "print('Score = %s' % score_lin)\n",
    "\n",
    "# display your results using plot_2d and frontiere\n",
    "plt.figure(2)\n",
    "plt.figure(figsize=(15,10))\n",
    "plt.title(\"Linear kernel\", size=20)\n",
    "frontiere(svc_lin.predict, X_test, y_test)"
   ]
  },
  {
   "cell_type": "markdown",
   "metadata": {},
   "source": [
    "### Question 2 : Comparaison avec noyau polynomial\n",
    "Comparez le résultat avec un SVM basé sur noyau polynomial."
   ]
  },
  {
   "cell_type": "code",
   "execution_count": 7,
   "metadata": {},
   "outputs": [
    {
     "name": "stdout",
     "output_type": "stream",
     "text": [
      "Score = 0.58\n"
     ]
    },
    {
     "data": {
      "text/plain": [
       "<Figure size 432x288 with 0 Axes>"
      ]
     },
     "metadata": {},
     "output_type": "display_data"
    },
    {
     "data": {
      "image/png": "[encoded data removed]",
      "text/plain": [
       "<Figure size 1080x720 with 2 Axes>"
      ]
     },
     "metadata": {
      "needs_background": "light"
     },
     "output_type": "display_data"
    }
   ],
   "source": [
    "svc_poly = SVC(kernel='poly', gamma='scale')\n",
    "# fit the model\n",
    "svc_poly.fit(X_train, y_train)\n",
    "\n",
    "# predict labels\n",
    "y_pred_poly = svc_poly.predict(X_test)\n",
    "\n",
    "# check your score\n",
    "score_poly = svc_poly.score(X_test, y_test)\n",
    "print('Score = %s' % score_poly)\n",
    "\n",
    "# display your results using plot_2d and frontiere\n",
    "plt.figure(2)\n",
    "plt.figure(figsize=(15,10))\n",
    "plt.title(\"Polynomial kernel\", size=20)\n",
    "frontiere(svc_poly.predict, X_test, y_test)"
   ]
  },
  {
   "cell_type": "markdown",
   "metadata": {},
   "source": [
    ">Globalement le noyau polynomial nous donne de moins bons résultats."
   ]
  },
  {
   "cell_type": "markdown",
   "metadata": {},
   "source": [
    "### SVM GUI\n",
    "* Lancez le script svm_gui.py disponible à l’adresse : http://scikit-learn.org/stable/auto_examples/applications/svm_gui.html Cette application permet en temps réel d’évaluer l’impact du choix du noyau et du paramètre de régularisation $C$.\n",
    "* Générez un jeu de données très déséquilibré avec beaucoup plus de points dans une classe que dans l’autre (au moins 90% vs 10%).\n",
    "* A l’aide d’un noyau linéaire et en diminuant le paramètre $C$ qu’observez vous ? Ce phénomène peut être corrigé en pratique en pondérant d’avantage les erreurs sur la classe la moins présente (paramètre `class_weight` de SVC) ou par une technique de re-calibration (utilisée avec `SVC(..., probability=True)`)."
   ]
  },
  {
   "cell_type": "code",
   "execution_count": 8,
   "metadata": {
    "scrolled": true
   },
   "outputs": [
    {
     "name": "stdout",
     "output_type": "stream",
     "text": [
      "Module created for script run in IPython\n"
     ]
    }
   ],
   "source": [
    "%run svm_gui.py"
   ]
  },
  {
   "cell_type": "markdown",
   "metadata": {},
   "source": [
    ">Globalement on observe que lorsque C diminue, la marge autour de la séparation augmente."
   ]
  },
  {
   "cell_type": "markdown",
   "metadata": {},
   "source": [
    "### Classification de visages\n",
    "L’exemple suivant est un problème de classification de visages. La base de données à utiliser est disponible à l’adresse suivante : https://scikit-learn.org/stable/auto_examples/applications/plot_face_recognition.html. Vous pouvez choisir deux personnes, par exemple Tony Blair et Colin Powell, pour accélérer le calcul. Aussi, vous pouvez utilisez seulement grayscale (et non le couleur) pour réduire le nombre de variables."
   ]
  },
  {
   "cell_type": "code",
   "execution_count": 28,
   "metadata": {},
   "outputs": [],
   "source": [
    "\"\"\"\n",
    "The dataset used in this example is a preprocessed excerpt\n",
    "of the \"Labeled Faces in the Wild\", aka LFW_:\n",
    "\n",
    "  http://vis-www.cs.umass.edu/lfw/lfw-funneled.tgz (233MB)\n",
    "\n",
    "  _LFW: http://vis-www.cs.umass.edu/lfw/\n",
    "\n",
    "\"\"\"\n",
    "\n",
    "from time import time\n",
    "import pylab as pl\n",
    "\n",
    "from sklearn.datasets import fetch_lfw_people\n",
    "\n",
    "\n",
    "####################################################################\n",
    "# Download the data (if not already on disk); load it as numpy arrays\n",
    "lfw_people = fetch_lfw_people(min_faces_per_person=70, resize=0.4) # funneled=False, slice_=None, download_if_missing=True)"
   ]
  },
  {
   "cell_type": "code",
   "execution_count": 29,
   "metadata": {},
   "outputs": [
    {
     "name": "stdout",
     "output_type": "stream",
     "text": [
      "Total dataset size:\n",
      "n_samples: 760\n",
      "n_features: 1850\n",
      "n_classes: 3\n"
     ]
    }
   ],
   "source": [
    "# introspect the images arrays to find the shapes (for plotting)\n",
    "n_samples, h, w = lfw_people.images.shape\n",
    "\n",
    "# for machine learning we use the 2 data directly (as relative pixel\n",
    "# positions info is ignored by this model)\n",
    "X = lfw_people.data\n",
    "n_features = X.shape[1]\n",
    "\n",
    "# the label to predict is the id of the person\n",
    "y = lfw_people.target\n",
    "target_names = lfw_people.target_names\n",
    "n_classes = target_names.shape[0]\n",
    "\n",
    "print(\"Total dataset size:\")\n",
    "print(\"n_samples: %d\" % n_samples)\n",
    "print(\"n_features: %d\" % n_features)\n",
    "print(\"n_classes: %d\" % n_classes)\n",
    "\n",
    "\n",
    "# #############################################################################\n",
    "# Split into a training set and a test set using a stratified k fold\n",
    "\n",
    "# split into a training and testing set\n",
    "X_train, X_test, y_train, y_test = train_test_split(X, y, test_size=0.25, random_state=42)"
   ]
  },
  {
   "cell_type": "markdown",
   "metadata": {},
   "source": [
    "### Question 5 : Centrage et réduction des features\n",
    "Utilisez les features centrées et réduites. (Pourquoi ?)"
   ]
  },
  {
   "cell_type": "code",
   "execution_count": 31,
   "metadata": {},
   "outputs": [],
   "source": [
    "X_center = X - np.mean(X, axis=0)\n",
    "X_scaled = X_center / np.std(X, axis=0)"
   ]
  },
  {
   "cell_type": "code",
   "execution_count": 32,
   "metadata": {},
   "outputs": [],
   "source": [
    "X_train, X_test, y_train, y_test = train_test_split(X_scaled, y, test_size=0.25, random_state=42)"
   ]
  },
  {
   "cell_type": "code",
   "execution_count": 36,
   "metadata": {},
   "outputs": [
    {
     "name": "stdout",
     "output_type": "stream",
     "text": [
      "Le taux de réussite est égal 71.6 %\n"
     ]
    }
   ],
   "source": [
    "svc_poly = SVC(kernel='poly', gamma='scale')\n",
    "# fit the model\n",
    "svc_poly.fit(X_train, y_train)\n",
    "\n",
    "# predict labels\n",
    "y_pred_poly = svc_poly.predict(X_test)\n",
    "\n",
    "# check your score\n",
    "score_poly = svc_poly.score(X_test, y_test)\n",
    "print(f'Le taux de réussite est de {round(100*score_poly,1)} %')"
   ]
  },
  {
   "cell_type": "markdown",
   "metadata": {},
   "source": [
    "### Question 6 : Influence du paramètre de régularisation\n",
    "Montrez l’influence du paramètre de régularisation. On pourra par exemple afficher l’erreur de prédiction en fonction de $C$ sur une échelle logarithmique entre $.10^5$ et $.10^{-5}$."
   ]
  },
  {
   "cell_type": "code",
   "execution_count": null,
   "metadata": {},
   "outputs": [],
   "source": []
  }
 ],
 "metadata": {
  "kernelspec": {
   "display_name": "Python 3",
   "language": "python",
   "name": "python3"
  },
  "language_info": {
   "codemirror_mode": {
    "name": "ipython",
    "version": 3
   },
   "file_extension": ".py",
   "mimetype": "text/x-python",
   "name": "python",
   "nbconvert_exporter": "python",
   "pygments_lexer": "ipython3",
   "version": "3.7.4"
  }
 },
 "nbformat": 4,
 "nbformat_minor": 2
}
